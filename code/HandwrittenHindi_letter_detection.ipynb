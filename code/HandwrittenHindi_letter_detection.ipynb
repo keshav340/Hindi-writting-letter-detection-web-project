{
  "nbformat": 4,
  "nbformat_minor": 0,
  "metadata": {
    "colab": {
      "name": "HandwrittenHindi letter detection.ipynb",
      "provenance": []
    },
    "kernelspec": {
      "name": "python3",
      "display_name": "Python 3"
    },
    "language_info": {
      "name": "python"
    },
    "accelerator": "GPU"
  },
  "cells": [
    {
      "cell_type": "code",
      "metadata": {
        "id": "bilnN6ER8EcB"
      },
      "source": [
        "import pandas as pd\n",
        "import numpy as np\n",
        "from keras.models import Sequential\n",
        "from keras.layers import Dense\n",
        "from keras.layers import Dropout\n",
        "from keras.layers import Flatten\n",
        "from keras.callbacks import EarlyStopping\n",
        "from keras.layers.convolutional import Conv2D\n",
        "from keras.layers.convolutional import MaxPooling2D\n",
        "from keras.utils import np_utils"
      ],
      "execution_count": 1,
      "outputs": []
    },
    {
      "cell_type": "code",
      "metadata": {
        "id": "bUKFqk6481wj"
      },
      "source": [
        "df = pd.read_csv('/content/drive/MyDrive/data.csv')\n",
        "\n",
        "# From First Col to (last-1) col with all rows\n",
        "X = df.iloc[:,:-1]\n",
        "\n",
        "# last Col with all rows\n",
        "y = df.iloc[:,-1]"
      ],
      "execution_count": 2,
      "outputs": []
    },
    {
      "cell_type": "code",
      "metadata": {
        "colab": {
          "base_uri": "https://localhost:8080/",
          "height": 266
        },
        "id": "7hJlG7Pd9kGs",
        "outputId": "44b73b13-ce20-41b8-979b-ad50465cb081"
      },
      "source": [
        "X_images = X.values.reshape(92000,32,32)\n",
        "import matplotlib.pyplot as plt\n",
        "plt.imshow(X_images[0])\n",
        "plt.show()"
      ],
      "execution_count": 4,
      "outputs": [
        {
          "output_type": "display_data",
          "data": {
            "image/png": "[encoded data removed]",
            "text/plain": [
              "<Figure size 432x288 with 1 Axes>"
            ]
          },
          "metadata": {
            "tags": [],
            "needs_background": "light"
          }
        }
      ]
    },
    {
      "cell_type": "code",
      "metadata": {
        "id": "wprh_CN_9Eux"
      },
      "source": [
        "# output in binary format for NN\n",
        "from sklearn.preprocessing import LabelBinarizer\n",
        "binencoder = LabelBinarizer()\n",
        "y = binencoder.fit_transform(y)"
      ],
      "execution_count": 3,
      "outputs": []
    },
    {
      "cell_type": "code",
      "metadata": {
        "id": "t2xGWJIc98PD"
      },
      "source": [
        "from sklearn.model_selection import train_test_split\n",
        "X_train, X_test, y_train, y_test = train_test_split(X_images, y, test_size=0.20, random_state=92)\n",
        "X_train = X_train/255\n",
        "X_test = X_test/255\n",
        "\n",
        "# changing from 3 to 4 dimensions of inputss\n",
        "X_train = X_train.reshape(X_train.shape[0], 32, 32, 1).astype('float32')\n",
        "X_test = X_test.reshape(X_test.shape[0], 32, 32, 1).astype('float32')"
      ],
      "execution_count": 7,
      "outputs": []
    },
    {
      "cell_type": "code",
      "metadata": {
        "colab": {
          "base_uri": "https://localhost:8080/"
        },
        "id": "u6jduqv1-DbC",
        "outputId": "3a3ec410-ca65-48b6-89f5-efeed7513e36"
      },
      "source": [
        "# Building the Convolutional Model\n",
        "# Building the Convolutional Model\n",
        "conv_model = Sequential()\n",
        "conv_model.add(\n",
        "    Conv2D(32, (4, 4), \n",
        "           input_shape=(32, 32,1),\n",
        "           activation='relu', \n",
        "           name=\"firstConv\"\n",
        "    )\n",
        ")\n",
        "\n",
        "conv_model.add(\n",
        "    MaxPooling2D(pool_size=(2, 2), \n",
        "                 name=\"FirstPool\"\n",
        "                )\n",
        ")\n",
        "\n",
        "conv_model.add(\n",
        "    Conv2D(64, (3, 3), \n",
        "           activation='relu', \n",
        "           name=\"SecondConv\"\n",
        "          )\n",
        ")\n",
        "\n",
        "conv_model.add(\n",
        "    MaxPooling2D(\n",
        "        pool_size=(2, 2),\n",
        "        name=\"SecondPool\")\n",
        ")\n",
        "\n",
        "conv_model.add(Dropout(0.2)) # Prevents Overfitting in Conv Nete\n",
        "conv_model.add(Flatten())\n",
        "\n",
        "conv_model.add(\n",
        "    Dense(128,\n",
        "          activation='relu',\n",
        "          name=\"dense_1\"\n",
        "         )\n",
        ")\n",
        "conv_model.add(\n",
        "    Dense(50, \n",
        "          activation='relu', \n",
        "          name=\"dense_2\"\n",
        "         )\n",
        ")\n",
        "\n",
        "# Output Layer with 46 Unique Outputs\n",
        "conv_model.add(\n",
        "    Dense(46, \n",
        "          activation='softmax', \n",
        "          name=\"modeloutput\"\n",
        "         )\n",
        ")\n",
        "conv_model.summary()"
      ],
      "execution_count": 9,
      "outputs": [
        {
          "output_type": "stream",
          "text": [
            "Model: \"sequential_1\"\n",
            "_________________________________________________________________\n",
            "Layer (type)                 Output Shape              Param #   \n",
            "=================================================================\n",
            "firstConv (Conv2D)           (None, 29, 29, 32)        544       \n",
            "_________________________________________________________________\n",
            "FirstPool (MaxPooling2D)     (None, 14, 14, 32)        0         \n",
            "_________________________________________________________________\n",
            "SecondConv (Conv2D)          (None, 12, 12, 64)        18496     \n",
            "_________________________________________________________________\n",
            "SecondPool (MaxPooling2D)    (None, 6, 6, 64)          0         \n",
            "_________________________________________________________________\n",
            "dropout_1 (Dropout)          (None, 6, 6, 64)          0         \n",
            "_________________________________________________________________\n",
            "flatten (Flatten)            (None, 2304)              0         \n",
            "_________________________________________________________________\n",
            "dense_1 (Dense)              (None, 128)               295040    \n",
            "_________________________________________________________________\n",
            "dense_2 (Dense)              (None, 50)                6450      \n",
            "_________________________________________________________________\n",
            "modeloutput (Dense)          (None, 46)                2346      \n",
            "=================================================================\n",
            "Total params: 322,876\n",
            "Trainable params: 322,876\n",
            "Non-trainable params: 0\n",
            "_________________________________________________________________\n"
          ],
          "name": "stdout"
        }
      ]
    },
    {
      "cell_type": "code",
      "metadata": {
        "id": "FlRBq1bz-7v9"
      },
      "source": [
        "conv_model.compile(\n",
        "    loss='categorical_crossentropy', \n",
        "    optimizer='adam',\n",
        "    metrics=['accuracy']\n",
        ")"
      ],
      "execution_count": 10,
      "outputs": []
    },
    {
      "cell_type": "code",
      "metadata": {
        "id": "BrAJgCDd-Jyh"
      },
      "source": [
        "from keras.optimizers import RMSprop\n",
        "from keras.callbacks import ModelCheckpoint, EarlyStopping\n",
        "\n",
        "                     \n",
        "checkpoint = ModelCheckpoint(\"hindi_handwritting_detection.h5\",\n",
        "                             monitor=\"val_loss\",\n",
        "                             mode=\"min\",\n",
        "                             save_best_only = True,\n",
        "                             verbose=1)\n",
        "\n",
        "earlystop = EarlyStopping(monitor = 'val_loss', \n",
        "                          min_delta = 0, \n",
        "                          patience = 3,\n",
        "                          verbose = 1,\n",
        "                          restore_best_weights = True)\n",
        "callbacks = [earlystop, checkpoint]"
      ],
      "execution_count": 12,
      "outputs": []
    },
    {
      "cell_type": "code",
      "metadata": {
        "colab": {
          "base_uri": "https://localhost:8080/"
        },
        "id": "hegNJESCAAsx",
        "outputId": "8dad44b8-053c-4bce-8e90-cf261620de65"
      },
      "source": [
        "result = conv_model.fit(X_train, y_train, validation_split=0.20, epochs=10, batch_size=92,verbose=2,callbacks = callbacks)"
      ],
      "execution_count": 17,
      "outputs": [
        {
          "output_type": "stream",
          "text": [
            "Epoch 1/10\n",
            "640/640 - 4s - loss: 0.0391 - accuracy: 0.9867 - val_loss: 0.1146 - val_accuracy: 0.9691\n",
            "\n",
            "Epoch 00001: val_loss improved from inf to 0.11456, saving model to hindi_handwritting_detection.h5\n",
            "Epoch 2/10\n",
            "640/640 - 4s - loss: 0.0362 - accuracy: 0.9877 - val_loss: 0.1162 - val_accuracy: 0.9702\n",
            "\n",
            "Epoch 00002: val_loss did not improve from 0.11456\n",
            "Epoch 3/10\n",
            "640/640 - 4s - loss: 0.0326 - accuracy: 0.9892 - val_loss: 0.1278 - val_accuracy: 0.9691\n",
            "\n",
            "Epoch 00003: val_loss did not improve from 0.11456\n",
            "Epoch 4/10\n",
            "640/640 - 4s - loss: 0.0286 - accuracy: 0.9904 - val_loss: 0.1139 - val_accuracy: 0.9723\n",
            "\n",
            "Epoch 00004: val_loss improved from 0.11456 to 0.11385, saving model to hindi_handwritting_detection.h5\n",
            "Epoch 5/10\n",
            "640/640 - 4s - loss: 0.0280 - accuracy: 0.9901 - val_loss: 0.1225 - val_accuracy: 0.9702\n",
            "\n",
            "Epoch 00005: val_loss did not improve from 0.11385\n",
            "Epoch 6/10\n",
            "640/640 - 4s - loss: 0.0262 - accuracy: 0.9915 - val_loss: 0.1178 - val_accuracy: 0.9718\n",
            "\n",
            "Epoch 00006: val_loss did not improve from 0.11385\n",
            "Epoch 7/10\n",
            "640/640 - 4s - loss: 0.0254 - accuracy: 0.9911 - val_loss: 0.1094 - val_accuracy: 0.9732\n",
            "\n",
            "Epoch 00007: val_loss improved from 0.11385 to 0.10940, saving model to hindi_handwritting_detection.h5\n",
            "Epoch 8/10\n",
            "640/640 - 4s - loss: 0.0220 - accuracy: 0.9926 - val_loss: 0.1172 - val_accuracy: 0.9753\n",
            "\n",
            "Epoch 00008: val_loss did not improve from 0.10940\n",
            "Epoch 9/10\n",
            "640/640 - 4s - loss: 0.0205 - accuracy: 0.9933 - val_loss: 0.1256 - val_accuracy: 0.9711\n",
            "\n",
            "Epoch 00009: val_loss did not improve from 0.10940\n",
            "Epoch 10/10\n",
            "640/640 - 4s - loss: 0.0191 - accuracy: 0.9935 - val_loss: 0.1263 - val_accuracy: 0.9720\n",
            "Restoring model weights from the end of the best epoch.\n",
            "\n",
            "Epoch 00010: val_loss did not improve from 0.10940\n",
            "Epoch 00010: early stopping\n"
          ],
          "name": "stdout"
        }
      ]
    },
    {
      "cell_type": "code",
      "metadata": {
        "id": "TNUkvLO7Asen"
      },
      "source": [
        "scores = conv_model.evaluate(X_test, y_test, verbose=0)"
      ],
      "execution_count": 18,
      "outputs": []
    },
    {
      "cell_type": "code",
      "metadata": {
        "colab": {
          "base_uri": "https://localhost:8080/"
        },
        "id": "rMvszcrgCXig",
        "outputId": "5384a99c-a4f4-4dde-8ab7-351c5f873444"
      },
      "source": [
        "print(\"Accuracy: %.2f%%\" % (scores[1]*100))"
      ],
      "execution_count": 21,
      "outputs": [
        {
          "output_type": "stream",
          "text": [
            "Accuracy: 97.41%\n"
          ],
          "name": "stdout"
        }
      ]
    },
    {
      "cell_type": "code",
      "metadata": {
        "colab": {
          "base_uri": "https://localhost:8080/",
          "height": 266
        },
        "id": "4jFLL5lHCllK",
        "outputId": "f2f4c953-716c-4c47-8478-8220687184db"
      },
      "source": [
        "num = 15000\n",
        "plt.imshow(X_images[num])\n",
        "plt.show()\n"
      ],
      "execution_count": 25,
      "outputs": [
        {
          "output_type": "display_data",
          "data": {
            "image/png": "[encoded data removed]",
            "text/plain": [
              "<Figure size 432x288 with 1 Axes>"
            ]
          },
          "metadata": {
            "tags": [],
            "needs_background": "light"
          }
        }
      ]
    },
    {
      "cell_type": "code",
      "metadata": {
        "id": "2lVhZ0xGDsTm"
      },
      "source": [
        "loss_train = result.history['loss']\n",
        "loss_valid = result.history['val_loss']\n",
        "acc_train = result.history['accuracy']\n",
        "acc_valid = result.history['val_accuracy']"
      ],
      "execution_count": 33,
      "outputs": []
    },
    {
      "cell_type": "code",
      "metadata": {
        "id": "VPHOaVO1Frkz"
      },
      "source": [
        "epochs = 10"
      ],
      "execution_count": 35,
      "outputs": []
    },
    {
      "cell_type": "code",
      "metadata": {
        "colab": {
          "base_uri": "https://localhost:8080/",
          "height": 36
        },
        "id": "R7XyswjpC0Xl",
        "outputId": "b6dae058-e85e-40cd-9c0a-954a4b2ed86e"
      },
      "source": [
        "#how to predict\n",
        "imgTrans = X_images[num].reshape(1,32,32,1)\n",
        "imgTrans.shape\n",
        "\n",
        "predictions = conv_model.predict(imgTrans)\n",
        "binencoder.classes_[np.argmax(predictions)]"
      ],
      "execution_count": 26,
      "outputs": [
        {
          "output_type": "execute_result",
          "data": {
            "application/vnd.google.colaboratory.intrinsic+json": {
              "type": "string"
            },
            "text/plain": [
              "'character_10_yna'"
            ]
          },
          "metadata": {
            "tags": []
          },
          "execution_count": 26
        }
      ]
    }
  ]
}